{
 "cells": [
  {
   "cell_type": "code",
   "execution_count": 1,
   "metadata": {
    "collapsed": true
   },
   "outputs": [],
   "source": [
    "%matplotlib inline\n",
    "import matplotlib\n",
    "import numpy as np\n",
    "import matplotlib.pyplot as plt\n",
    "import pandas as pd\n",
    "import seaborn as sns\n",
    "\n",
    "from sklearn.metrics import confusion_matrix\n",
    "import itertools\n",
    "\n",
    "from sklearn.tree import DecisionTreeRegressor\n",
    "from sklearn.ensemble import RandomForestRegressor\n",
    "from sklearn.ensemble import GradientBoostingRegressor\n",
    "from sklearn.ensemble import ExtraTreesClassifier\n",
    "from sklearn.ensemble import RandomForestClassifier\n",
    "from sklearn.model_selection import cross_val_score\n",
    "from sklearn.metrics import mean_squared_error as mse\n",
    "from sklearn.metrics import mean_absolute_error as mae\n",
    "from sklearn.metrics import accuracy_score as acc\n",
    "from sklearn.metrics import make_scorer\n",
    "from sklearn.dummy import DummyRegressor\n",
    "from sklearn.dummy import DummyClassifier\n",
    "from sklearn.preprocessing import LabelEncoder"
   ]
  },
  {
   "cell_type": "code",
   "execution_count": 2,
   "metadata": {
    "collapsed": true
   },
   "outputs": [],
   "source": [
    "df_online = pd.read_csv(\"./NatRep_Online_Upload.csv\", delimiter = \",\")\n",
    "df_phone = pd.read_csv(\"./NatRep_Phone_upload.csv\", delimiter = \",\")"
   ]
  },
  {
   "cell_type": "code",
   "execution_count": 3,
   "metadata": {
    "collapsed": false
   },
   "outputs": [],
   "source": [
    "df_elections = pd.read_csv(\"./2015_general_elections/2015_voting_gen_election.csv\", delimiter=\",\")"
   ]
  },
  {
   "cell_type": "code",
   "execution_count": 4,
   "metadata": {
    "collapsed": false
   },
   "outputs": [
    {
     "data": {
      "text/html": [
       "<div>\n",
       "<table border=\"1\" class=\"dataframe\">\n",
       "  <thead>\n",
       "    <tr style=\"text-align: right;\">\n",
       "      <th></th>\n",
       "      <th>Party</th>\n",
       "      <th>Votes</th>\n",
       "      <th>Vote Share</th>\n",
       "    </tr>\n",
       "  </thead>\n",
       "  <tbody>\n",
       "    <tr>\n",
       "      <th>0</th>\n",
       "      <td>Conservative</td>\n",
       "      <td>11334576</td>\n",
       "      <td>36.9</td>\n",
       "    </tr>\n",
       "    <tr>\n",
       "      <th>1</th>\n",
       "      <td>Labour</td>\n",
       "      <td>9347304</td>\n",
       "      <td>30.4</td>\n",
       "    </tr>\n",
       "    <tr>\n",
       "      <th>2</th>\n",
       "      <td>UKIP</td>\n",
       "      <td>3881099</td>\n",
       "      <td>12.6</td>\n",
       "    </tr>\n",
       "    <tr>\n",
       "      <th>3</th>\n",
       "      <td>Liberal Democrat</td>\n",
       "      <td>2415862</td>\n",
       "      <td>7.9</td>\n",
       "    </tr>\n",
       "    <tr>\n",
       "      <th>4</th>\n",
       "      <td>Scotish National Party</td>\n",
       "      <td>1254436</td>\n",
       "      <td>4.7</td>\n",
       "    </tr>\n",
       "  </tbody>\n",
       "</table>\n",
       "</div>"
      ],
      "text/plain": [
       "                    Party     Votes  Vote Share\n",
       "0            Conservative  11334576        36.9\n",
       "1                  Labour   9347304        30.4\n",
       "2                    UKIP   3881099        12.6\n",
       "3        Liberal Democrat   2415862         7.9\n",
       "4  Scotish National Party   1254436         4.7"
      ]
     },
     "execution_count": 4,
     "metadata": {},
     "output_type": "execute_result"
    }
   ],
   "source": [
    "df_elections.head()"
   ]
  },
  {
   "cell_type": "code",
   "execution_count": 5,
   "metadata": {
    "collapsed": true
   },
   "outputs": [],
   "source": [
    "df_qualifications = pd.read_csv(\"./Education_qualifications/UK_Qualifications.csv\", delimiter=\",\")"
   ]
  },
  {
   "cell_type": "code",
   "execution_count": 6,
   "metadata": {
    "collapsed": true
   },
   "outputs": [],
   "source": [
    "df_sex_to_age = pd.read_csv(\"./Gender_demographics_by_age/UK_M_to_F_ratio_by_age.csv\", delimiter=\",\")"
   ]
  },
  {
   "cell_type": "code",
   "execution_count": 7,
   "metadata": {
    "collapsed": false
   },
   "outputs": [],
   "source": [
    "df_newspaper = pd.read_csv(\"./Newspaper_readability/Newspaper_readerships_uk.csv\", delimiter=\",\")"
   ]
  },
  {
   "cell_type": "code",
   "execution_count": 8,
   "metadata": {
    "collapsed": true
   },
   "outputs": [],
   "source": [
    "df_social_grade = pd.read_csv(\"./Social_grade/Aproximated_social_grade.csv\", delimiter=\",\")"
   ]
  },
  {
   "cell_type": "code",
   "execution_count": 9,
   "metadata": {
    "collapsed": false
   },
   "outputs": [
    {
     "data": {
      "text/html": [
       "<div>\n",
       "<table border=\"1\" class=\"dataframe\">\n",
       "  <thead>\n",
       "    <tr style=\"text-align: right;\">\n",
       "      <th></th>\n",
       "      <th>Area code</th>\n",
       "      <th>Area name</th>\n",
       "      <th>Unnamed: 2</th>\n",
       "      <th>Unnamed: 3</th>\n",
       "      <th>All categories: Approximated social grade</th>\n",
       "      <th>Approximated social grade AB</th>\n",
       "      <th>Approximated social grade C1</th>\n",
       "      <th>Approximated social grade C2</th>\n",
       "      <th>Approximated social grade DE</th>\n",
       "    </tr>\n",
       "  </thead>\n",
       "  <tbody>\n",
       "    <tr>\n",
       "      <th>0</th>\n",
       "      <td>K04000001</td>\n",
       "      <td>ENGLAND AND WALES</td>\n",
       "      <td>NaN</td>\n",
       "      <td>NaN</td>\n",
       "      <td>17,266,580</td>\n",
       "      <td>22.7</td>\n",
       "      <td>30.8</td>\n",
       "      <td>20.8</td>\n",
       "      <td>25.7</td>\n",
       "    </tr>\n",
       "    <tr>\n",
       "      <th>1</th>\n",
       "      <td>E92000001</td>\n",
       "      <td>ENGLAND</td>\n",
       "      <td>NaN</td>\n",
       "      <td>NaN</td>\n",
       "      <td>16,339,853</td>\n",
       "      <td>23.0</td>\n",
       "      <td>30.9</td>\n",
       "      <td>20.6</td>\n",
       "      <td>25.5</td>\n",
       "    </tr>\n",
       "    <tr>\n",
       "      <th>2</th>\n",
       "      <td>E12000001</td>\n",
       "      <td>NORTH EAST</td>\n",
       "      <td>NaN</td>\n",
       "      <td>NaN</td>\n",
       "      <td>824,152</td>\n",
       "      <td>16.6</td>\n",
       "      <td>29.6</td>\n",
       "      <td>21.7</td>\n",
       "      <td>32.0</td>\n",
       "    </tr>\n",
       "    <tr>\n",
       "      <th>3</th>\n",
       "      <td>E12000002</td>\n",
       "      <td>NORTH WEST</td>\n",
       "      <td>NaN</td>\n",
       "      <td>NaN</td>\n",
       "      <td>2,222,061</td>\n",
       "      <td>19.3</td>\n",
       "      <td>30.3</td>\n",
       "      <td>20.7</td>\n",
       "      <td>29.7</td>\n",
       "    </tr>\n",
       "    <tr>\n",
       "      <th>4</th>\n",
       "      <td>E12000003</td>\n",
       "      <td>YORKSHIRE AND THE HUMBER</td>\n",
       "      <td>NaN</td>\n",
       "      <td>NaN</td>\n",
       "      <td>1,640,564</td>\n",
       "      <td>18.8</td>\n",
       "      <td>29.3</td>\n",
       "      <td>22.3</td>\n",
       "      <td>29.6</td>\n",
       "    </tr>\n",
       "  </tbody>\n",
       "</table>\n",
       "</div>"
      ],
      "text/plain": [
       "   Area code                 Area name  Unnamed: 2  Unnamed: 3  \\\n",
       "0  K04000001         ENGLAND AND WALES         NaN         NaN   \n",
       "1  E92000001                   ENGLAND         NaN         NaN   \n",
       "2  E12000001                NORTH EAST         NaN         NaN   \n",
       "3  E12000002               NORTH WEST          NaN         NaN   \n",
       "4  E12000003  YORKSHIRE AND THE HUMBER         NaN         NaN   \n",
       "\n",
       "  All categories: Approximated social grade  Approximated social grade AB  \\\n",
       "0                                17,266,580                          22.7   \n",
       "1                                16,339,853                          23.0   \n",
       "2                                   824,152                          16.6   \n",
       "3                                 2,222,061                          19.3   \n",
       "4                                 1,640,564                          18.8   \n",
       "\n",
       "   Approximated social grade C1  Approximated social grade C2  \\\n",
       "0                          30.8                          20.8   \n",
       "1                          30.9                          20.6   \n",
       "2                          29.6                          21.7   \n",
       "3                          30.3                          20.7   \n",
       "4                          29.3                          22.3   \n",
       "\n",
       "   Approximated social grade DE  \n",
       "0                          25.7  \n",
       "1                          25.5  \n",
       "2                          32.0  \n",
       "3                          29.7  \n",
       "4                          29.6  "
      ]
     },
     "execution_count": 9,
     "metadata": {},
     "output_type": "execute_result"
    }
   ],
   "source": [
    "df_social_grade.head()"
   ]
  },
  {
   "cell_type": "code",
   "execution_count": 10,
   "metadata": {
    "collapsed": true
   },
   "outputs": [],
   "source": [
    "df_station_ratings = pd.read_csv(\"./Station_ratings/Station_Ratings_UK.csv\", delimiter=\",\")"
   ]
  },
  {
   "cell_type": "code",
   "execution_count": 11,
   "metadata": {
    "collapsed": false
   },
   "outputs": [
    {
     "data": {
      "text/html": [
       "<div>\n",
       "<table border=\"1\" class=\"dataframe\">\n",
       "  <thead>\n",
       "    <tr style=\"text-align: right;\">\n",
       "      <th></th>\n",
       "      <th>Station</th>\n",
       "      <th>Ratings</th>\n",
       "    </tr>\n",
       "  </thead>\n",
       "  <tbody>\n",
       "    <tr>\n",
       "      <th>0</th>\n",
       "      <td>BBC</td>\n",
       "      <td>31.8</td>\n",
       "    </tr>\n",
       "    <tr>\n",
       "      <th>1</th>\n",
       "      <td>ITV</td>\n",
       "      <td>22.6</td>\n",
       "    </tr>\n",
       "    <tr>\n",
       "      <th>2</th>\n",
       "      <td>Chanel 4</td>\n",
       "      <td>11.3</td>\n",
       "    </tr>\n",
       "    <tr>\n",
       "      <th>3</th>\n",
       "      <td>Five</td>\n",
       "      <td>5.9</td>\n",
       "    </tr>\n",
       "    <tr>\n",
       "      <th>4</th>\n",
       "      <td>Sky</td>\n",
       "      <td>6.8</td>\n",
       "    </tr>\n",
       "  </tbody>\n",
       "</table>\n",
       "</div>"
      ],
      "text/plain": [
       "    Station  Ratings\n",
       "0       BBC     31.8\n",
       "1       ITV     22.6\n",
       "2  Chanel 4     11.3\n",
       "3      Five      5.9\n",
       "4       Sky      6.8"
      ]
     },
     "execution_count": 11,
     "metadata": {},
     "output_type": "execute_result"
    }
   ],
   "source": [
    "df_station_ratings.head()"
   ]
  },
  {
   "cell_type": "code",
   "execution_count": 12,
   "metadata": {
    "collapsed": false
   },
   "outputs": [],
   "source": [
    "#start by deleting the ages that cannot legaly vote\n",
    "for i in range(18):\n",
    "    df_sex_to_age = df_sex_to_age.drop(df_sex_to_age.index[[0]])"
   ]
  },
  {
   "cell_type": "code",
   "execution_count": 13,
   "metadata": {
    "collapsed": false
   },
   "outputs": [
    {
     "data": {
      "text/html": [
       "<div>\n",
       "<table border=\"1\" class=\"dataframe\">\n",
       "  <thead>\n",
       "    <tr style=\"text-align: right;\">\n",
       "      <th></th>\n",
       "      <th>Number of males</th>\n",
       "      <th>Number of females</th>\n",
       "    </tr>\n",
       "    <tr>\n",
       "      <th>Age</th>\n",
       "      <th></th>\n",
       "      <th></th>\n",
       "    </tr>\n",
       "  </thead>\n",
       "  <tbody>\n",
       "    <tr>\n",
       "      <th>18</th>\n",
       "      <td>1657490</td>\n",
       "      <td>1575830</td>\n",
       "    </tr>\n",
       "    <tr>\n",
       "      <th>22</th>\n",
       "      <td>1787140</td>\n",
       "      <td>1741962</td>\n",
       "    </tr>\n",
       "    <tr>\n",
       "      <th>26</th>\n",
       "      <td>1755006</td>\n",
       "      <td>1759090</td>\n",
       "    </tr>\n",
       "    <tr>\n",
       "      <th>30</th>\n",
       "      <td>1726987</td>\n",
       "      <td>1751330</td>\n",
       "    </tr>\n",
       "    <tr>\n",
       "      <th>34</th>\n",
       "      <td>1633251</td>\n",
       "      <td>1645540</td>\n",
       "    </tr>\n",
       "    <tr>\n",
       "      <th>38</th>\n",
       "      <td>1621862</td>\n",
       "      <td>1645240</td>\n",
       "    </tr>\n",
       "    <tr>\n",
       "      <th>42</th>\n",
       "      <td>1796311</td>\n",
       "      <td>1844864</td>\n",
       "    </tr>\n",
       "    <tr>\n",
       "      <th>46</th>\n",
       "      <td>1847323</td>\n",
       "      <td>1900632</td>\n",
       "    </tr>\n",
       "    <tr>\n",
       "      <th>50</th>\n",
       "      <td>1789466</td>\n",
       "      <td>1834055</td>\n",
       "    </tr>\n",
       "    <tr>\n",
       "      <th>54</th>\n",
       "      <td>1591763</td>\n",
       "      <td>1627838</td>\n",
       "    </tr>\n",
       "    <tr>\n",
       "      <th>58</th>\n",
       "      <td>1418366</td>\n",
       "      <td>1463919</td>\n",
       "    </tr>\n",
       "    <tr>\n",
       "      <th>62</th>\n",
       "      <td>1372228</td>\n",
       "      <td>1438433</td>\n",
       "    </tr>\n",
       "    <tr>\n",
       "      <th>66</th>\n",
       "      <td>1377874</td>\n",
       "      <td>1460326</td>\n",
       "    </tr>\n",
       "    <tr>\n",
       "      <th>70</th>\n",
       "      <td>1027758</td>\n",
       "      <td>1130793</td>\n",
       "    </tr>\n",
       "    <tr>\n",
       "      <th>74</th>\n",
       "      <td>847375</td>\n",
       "      <td>979410</td>\n",
       "    </tr>\n",
       "    <tr>\n",
       "      <th>78</th>\n",
       "      <td>652943</td>\n",
       "      <td>818112</td>\n",
       "    </tr>\n",
       "    <tr>\n",
       "      <th>82</th>\n",
       "      <td>461469</td>\n",
       "      <td>664432</td>\n",
       "    </tr>\n",
       "    <tr>\n",
       "      <th>86</th>\n",
       "      <td>261534</td>\n",
       "      <td>450336</td>\n",
       "    </tr>\n",
       "    <tr>\n",
       "      <th>90+</th>\n",
       "      <td>157781</td>\n",
       "      <td>393029</td>\n",
       "    </tr>\n",
       "  </tbody>\n",
       "</table>\n",
       "</div>"
      ],
      "text/plain": [
       "     Number of males  Number of females\n",
       "Age                                    \n",
       "18           1657490            1575830\n",
       "22           1787140            1741962\n",
       "26           1755006            1759090\n",
       "30           1726987            1751330\n",
       "34           1633251            1645540\n",
       "38           1621862            1645240\n",
       "42           1796311            1844864\n",
       "46           1847323            1900632\n",
       "50           1789466            1834055\n",
       "54           1591763            1627838\n",
       "58           1418366            1463919\n",
       "62           1372228            1438433\n",
       "66           1377874            1460326\n",
       "70           1027758            1130793\n",
       "74            847375             979410\n",
       "78            652943             818112\n",
       "82            461469             664432\n",
       "86            261534             450336\n",
       "90+           157781             393029"
      ]
     },
     "execution_count": 13,
     "metadata": {},
     "output_type": "execute_result"
    }
   ],
   "source": [
    "#to avoid overfitting, create age groups every 4 years\n",
    "df_sex_to_agegroup = df_sex_to_age.groupby(np.arange(len(df_sex_to_age))//4).sum()\n",
    "df_sex_to_agegroup.index = df_sex_to_age.loc[1::4,'Age']\n",
    "df_sex_to_agegroup"
   ]
  },
  {
   "cell_type": "code",
   "execution_count": 14,
   "metadata": {
    "collapsed": false
   },
   "outputs": [
    {
     "data": {
      "text/html": [
       "<div>\n",
       "<table border=\"1\" class=\"dataframe\">\n",
       "  <thead>\n",
       "    <tr style=\"text-align: right;\">\n",
       "      <th></th>\n",
       "      <th>%</th>\n",
       "      <th>Qualification</th>\n",
       "    </tr>\n",
       "  </thead>\n",
       "  <tbody>\n",
       "    <tr>\n",
       "      <th>0</th>\n",
       "      <td>14.502011</td>\n",
       "      <td>No Qualification</td>\n",
       "    </tr>\n",
       "    <tr>\n",
       "      <th>1</th>\n",
       "      <td>15.601149</td>\n",
       "      <td>Level 1</td>\n",
       "    </tr>\n",
       "    <tr>\n",
       "      <th>2</th>\n",
       "      <td>17.831609</td>\n",
       "      <td>Level 2</td>\n",
       "    </tr>\n",
       "    <tr>\n",
       "      <th>3</th>\n",
       "      <td>14.468103</td>\n",
       "      <td>Level 3</td>\n",
       "    </tr>\n",
       "    <tr>\n",
       "      <th>4</th>\n",
       "      <td>29.292529</td>\n",
       "      <td>Level 4</td>\n",
       "    </tr>\n",
       "    <tr>\n",
       "      <th>5</th>\n",
       "      <td>4.972701</td>\n",
       "      <td>Other</td>\n",
       "    </tr>\n",
       "  </tbody>\n",
       "</table>\n",
       "</div>"
      ],
      "text/plain": [
       "           %     Qualification\n",
       "0  14.502011  No Qualification\n",
       "1  15.601149           Level 1\n",
       "2  17.831609           Level 2\n",
       "3  14.468103           Level 3\n",
       "4  29.292529           Level 4\n",
       "5   4.972701             Other"
      ]
     },
     "execution_count": 14,
     "metadata": {},
     "output_type": "execute_result"
    }
   ],
   "source": [
    "#create a dataframe to hold the means for every qualification level\n",
    "df_mean_qualifications = pd.DataFrame({ 'Qualification' : np.array([\"No Qualification\",\"Level 1\",\"Level 2\",\"Level 3\",\"Level 4\",\"Other\"],dtype='string'),\n",
    "                     '%' : np.array([df_qualifications[\"% No Qualifications\"].mean(),\n",
    "                                     df_qualifications[\"% Level 1\"].mean(),\n",
    "                                     df_qualifications[\"% Level 2\"].mean(),\n",
    "                                     df_qualifications[\"% Level 3\"].mean(),\n",
    "                                     df_qualifications[\"% Level 4\"].mean(),\n",
    "                                     df_qualifications[\"% Other\"].mean()],dtype='float')})\n",
    "df_mean_qualifications"
   ]
  },
  {
   "cell_type": "code",
   "execution_count": 15,
   "metadata": {
    "collapsed": false
   },
   "outputs": [
    {
     "data": {
      "text/html": [
       "<div>\n",
       "<table border=\"1\" class=\"dataframe\">\n",
       "  <thead>\n",
       "    <tr style=\"text-align: right;\">\n",
       "      <th></th>\n",
       "      <th>%</th>\n",
       "      <th>Newspapers</th>\n",
       "    </tr>\n",
       "  </thead>\n",
       "  <tbody>\n",
       "    <tr>\n",
       "      <th>0</th>\n",
       "      <td>0.290212</td>\n",
       "      <td>The Sun</td>\n",
       "    </tr>\n",
       "    <tr>\n",
       "      <th>1</th>\n",
       "      <td>0.257780</td>\n",
       "      <td>Daily Mail</td>\n",
       "    </tr>\n",
       "    <tr>\n",
       "      <th>2</th>\n",
       "      <td>0.168989</td>\n",
       "      <td>Metro</td>\n",
       "    </tr>\n",
       "    <tr>\n",
       "      <th>3</th>\n",
       "      <td>0.169807</td>\n",
       "      <td>Daily Mirror</td>\n",
       "    </tr>\n",
       "    <tr>\n",
       "      <th>4</th>\n",
       "      <td>0.113212</td>\n",
       "      <td>The Guardian</td>\n",
       "    </tr>\n",
       "  </tbody>\n",
       "</table>\n",
       "</div>"
      ],
      "text/plain": [
       "          %    Newspapers\n",
       "0  0.290212       The Sun\n",
       "1  0.257780    Daily Mail\n",
       "2  0.168989         Metro\n",
       "3  0.169807  Daily Mirror\n",
       "4  0.113212  The Guardian"
      ]
     },
     "execution_count": 15,
     "metadata": {},
     "output_type": "execute_result"
    }
   ],
   "source": [
    "#find the total number of readers and then use it to compute the precentages\n",
    "news_total = df_newspaper.iat[0,3]+ df_newspaper.iat[1,3]+df_newspaper.iat[2,3]+df_newspaper.iat[3,3]+df_newspaper.iat[4,3]\n",
    "df_percent_newspapers = pd.DataFrame({ 'Newspapers' : np.array([df_newspaper.iat[0,0],df_newspaper.iat[1,0],df_newspaper.iat[2,0],df_newspaper.iat[3,0],df_newspaper.iat[4,0]],dtype='string'),\n",
    "                     '%' : np.array([(float(df_newspaper.iat[0,3])/news_total),\n",
    "                                     (float(df_newspaper.iat[1,3])/news_total),\n",
    "                                     (float(df_newspaper.iat[2,3])/news_total),\n",
    "                                     (float(df_newspaper.iat[3,3])/news_total),\n",
    "                                     (float(df_newspaper.iat[4,3])/news_total)],dtype='float')})\n",
    "df_percent_newspapers"
   ]
  },
  {
   "cell_type": "code",
   "execution_count": null,
   "metadata": {
    "collapsed": true
   },
   "outputs": [],
   "source": []
  }
 ],
 "metadata": {
  "kernelspec": {
   "display_name": "Python 2",
   "language": "python",
   "name": "python2"
  },
  "language_info": {
   "codemirror_mode": {
    "name": "ipython",
    "version": 2
   },
   "file_extension": ".py",
   "mimetype": "text/x-python",
   "name": "python",
   "nbconvert_exporter": "python",
   "pygments_lexer": "ipython2",
   "version": "2.7.13"
  }
 },
 "nbformat": 4,
 "nbformat_minor": 2
}
