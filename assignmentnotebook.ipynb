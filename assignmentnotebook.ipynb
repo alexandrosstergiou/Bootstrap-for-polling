{
 "cells": [
  {
   "cell_type": "code",
   "execution_count": 1,
   "metadata": {
    "collapsed": true
   },
   "outputs": [],
   "source": [
    "%matplotlib inline\n",
    "import matplotlib\n",
    "import numpy as np\n",
    "import matplotlib.pyplot as plt\n",
    "import pandas as pd\n",
    "import seaborn as sns\n",
    "\n",
    "from sklearn.metrics import confusion_matrix\n",
    "import itertools\n",
    "\n",
    "from sklearn.tree import DecisionTreeRegressor\n",
    "from sklearn.ensemble import RandomForestRegressor\n",
    "from sklearn.ensemble import GradientBoostingRegressor\n",
    "from sklearn.ensemble import ExtraTreesClassifier\n",
    "from sklearn.ensemble import RandomForestClassifier\n",
    "from sklearn.model_selection import cross_val_score\n",
    "from sklearn.metrics import mean_squared_error as mse\n",
    "from sklearn.metrics import mean_absolute_error as mae\n",
    "from sklearn.metrics import accuracy_score as acc\n",
    "from sklearn.metrics import make_scorer\n",
    "from sklearn.dummy import DummyRegressor\n",
    "from sklearn.dummy import DummyClassifier\n",
    "from sklearn.preprocessing import LabelEncoder"
   ]
  },
  {
   "cell_type": "code",
   "execution_count": 2,
   "metadata": {
    "collapsed": false
   },
   "outputs": [],
   "source": [
    "df_online = pd.read_csv(\"./NatRep_Online_Upload.csv\", delimiter = \",\")\n",
    "df_phone = pd.read_csv(\"./NatRep_Phone_upload.csv\", delimiter = \",\")"
   ]
  },
  {
   "cell_type": "code",
   "execution_count": 3,
   "metadata": {
    "collapsed": false
   },
   "outputs": [],
   "source": [
    "df_elections = pd.read_csv(\"./2015_general_elections/2015_voting_gen_election.csv\", delimiter=\",\")"
   ]
  },
  {
   "cell_type": "code",
   "execution_count": 4,
   "metadata": {
    "collapsed": true
   },
   "outputs": [],
   "source": [
    "df_qualifications = pd.read_csv(\"./Education_qualifications/UK_Qualifications.csv\", delimiter=\",\")"
   ]
  },
  {
   "cell_type": "code",
   "execution_count": 5,
   "metadata": {
    "collapsed": true
   },
   "outputs": [],
   "source": [
    "df_sex_to_age = pd.read_csv(\"./Gender_demographics_by_age/UK_M_to_F_ratio_by_age.csv\", delimiter=\",\")"
   ]
  },
  {
   "cell_type": "code",
   "execution_count": 6,
   "metadata": {
    "collapsed": false
   },
   "outputs": [],
   "source": [
    "df_newspaper = pd.read_csv(\"./Newspaper_readability/Newspaper_readerships_uk.csv\", delimiter=\",\")"
   ]
  },
  {
   "cell_type": "code",
   "execution_count": 7,
   "metadata": {
    "collapsed": true
   },
   "outputs": [],
   "source": [
    "df_social_grade = pd.read_csv(\"./Social_grade/Aproximated_social_grade.csv\", delimiter=\",\")"
   ]
  },
  {
   "cell_type": "code",
   "execution_count": 8,
   "metadata": {
    "collapsed": true
   },
   "outputs": [],
   "source": [
    "df_station_ratings = pd.read_csv(\"./Station_ratings/Station_Ratings_UK.csv\", delimiter=\",\")"
   ]
  },
  {
   "cell_type": "code",
   "execution_count": 9,
   "metadata": {
    "collapsed": false
   },
   "outputs": [],
   "source": [
    "#start by deleting the ages that cannot legaly vote\n",
    "for i in range(18):\n",
    "    df_sex_to_age = df_sex_to_age.drop(df_sex_to_age.index[[0]])"
   ]
  },
  {
   "cell_type": "code",
   "execution_count": 10,
   "metadata": {
    "collapsed": false
   },
   "outputs": [],
   "source": [
    "#to avoid overfitting, create age groups every 4 years\n",
    "df_sex_to_agegroup = df_sex_to_age.groupby(np.arange(len(df_sex_to_age))//4).sum()\n",
    "df_sex_to_agegroup.index = df_sex_to_age.loc[1::4,'Age']"
   ]
  },
  {
   "cell_type": "code",
   "execution_count": 11,
   "metadata": {
    "collapsed": false
   },
   "outputs": [],
   "source": [
    "#Find the total number of men and women\n",
    "totals = df_sex_to_age.sum(axis=0)"
   ]
  },
  {
   "cell_type": "code",
   "execution_count": 12,
   "metadata": {
    "collapsed": false
   },
   "outputs": [
    {
     "data": {
      "text/html": [
       "<div>\n",
       "<table border=\"1\" class=\"dataframe\">\n",
       "  <thead>\n",
       "    <tr style=\"text-align: right;\">\n",
       "      <th></th>\n",
       "      <th>Number of males</th>\n",
       "      <th>Number of females</th>\n",
       "    </tr>\n",
       "    <tr>\n",
       "      <th>Age</th>\n",
       "      <th></th>\n",
       "      <th></th>\n",
       "    </tr>\n",
       "  </thead>\n",
       "  <tbody>\n",
       "    <tr>\n",
       "      <th>18</th>\n",
       "      <td>0.066878</td>\n",
       "      <td>0.060318</td>\n",
       "    </tr>\n",
       "    <tr>\n",
       "      <th>22</th>\n",
       "      <td>0.072109</td>\n",
       "      <td>0.066678</td>\n",
       "    </tr>\n",
       "    <tr>\n",
       "      <th>26</th>\n",
       "      <td>0.070812</td>\n",
       "      <td>0.067333</td>\n",
       "    </tr>\n",
       "    <tr>\n",
       "      <th>30</th>\n",
       "      <td>0.069682</td>\n",
       "      <td>0.067036</td>\n",
       "    </tr>\n",
       "    <tr>\n",
       "      <th>34</th>\n",
       "      <td>0.065900</td>\n",
       "      <td>0.062987</td>\n",
       "    </tr>\n",
       "    <tr>\n",
       "      <th>38</th>\n",
       "      <td>0.065440</td>\n",
       "      <td>0.062975</td>\n",
       "    </tr>\n",
       "    <tr>\n",
       "      <th>42</th>\n",
       "      <td>0.072479</td>\n",
       "      <td>0.070616</td>\n",
       "    </tr>\n",
       "    <tr>\n",
       "      <th>46</th>\n",
       "      <td>0.074537</td>\n",
       "      <td>0.072751</td>\n",
       "    </tr>\n",
       "    <tr>\n",
       "      <th>50</th>\n",
       "      <td>0.072203</td>\n",
       "      <td>0.070203</td>\n",
       "    </tr>\n",
       "    <tr>\n",
       "      <th>54</th>\n",
       "      <td>0.064226</td>\n",
       "      <td>0.062309</td>\n",
       "    </tr>\n",
       "    <tr>\n",
       "      <th>58</th>\n",
       "      <td>0.057229</td>\n",
       "      <td>0.056035</td>\n",
       "    </tr>\n",
       "    <tr>\n",
       "      <th>62</th>\n",
       "      <td>0.055368</td>\n",
       "      <td>0.055059</td>\n",
       "    </tr>\n",
       "    <tr>\n",
       "      <th>66</th>\n",
       "      <td>0.055595</td>\n",
       "      <td>0.055897</td>\n",
       "    </tr>\n",
       "    <tr>\n",
       "      <th>70</th>\n",
       "      <td>0.041469</td>\n",
       "      <td>0.043284</td>\n",
       "    </tr>\n",
       "    <tr>\n",
       "      <th>74</th>\n",
       "      <td>0.034191</td>\n",
       "      <td>0.037489</td>\n",
       "    </tr>\n",
       "    <tr>\n",
       "      <th>78</th>\n",
       "      <td>0.026345</td>\n",
       "      <td>0.031315</td>\n",
       "    </tr>\n",
       "    <tr>\n",
       "      <th>82</th>\n",
       "      <td>0.018620</td>\n",
       "      <td>0.025433</td>\n",
       "    </tr>\n",
       "    <tr>\n",
       "      <th>86</th>\n",
       "      <td>0.010553</td>\n",
       "      <td>0.017238</td>\n",
       "    </tr>\n",
       "    <tr>\n",
       "      <th>90+</th>\n",
       "      <td>0.006366</td>\n",
       "      <td>0.015044</td>\n",
       "    </tr>\n",
       "  </tbody>\n",
       "</table>\n",
       "</div>"
      ],
      "text/plain": [
       "     Number of males  Number of females\n",
       "Age                                    \n",
       "18          0.066878           0.060318\n",
       "22          0.072109           0.066678\n",
       "26          0.070812           0.067333\n",
       "30          0.069682           0.067036\n",
       "34          0.065900           0.062987\n",
       "38          0.065440           0.062975\n",
       "42          0.072479           0.070616\n",
       "46          0.074537           0.072751\n",
       "50          0.072203           0.070203\n",
       "54          0.064226           0.062309\n",
       "58          0.057229           0.056035\n",
       "62          0.055368           0.055059\n",
       "66          0.055595           0.055897\n",
       "70          0.041469           0.043284\n",
       "74          0.034191           0.037489\n",
       "78          0.026345           0.031315\n",
       "82          0.018620           0.025433\n",
       "86          0.010553           0.017238\n",
       "90+         0.006366           0.015044"
      ]
     },
     "execution_count": 12,
     "metadata": {},
     "output_type": "execute_result"
    }
   ],
   "source": [
    "#reconstruct the dataframe to only include the precentages\n",
    "df_sex_to_agegroup[\"Number of males\"] = df_sex_to_agegroup[\"Number of males\"].astype(float)\n",
    "df_sex_to_agegroup[\"Number of females\"] = df_sex_to_agegroup[\"Number of females\"].astype(float)\n",
    "for index, row in df_sex_to_agegroup.iterrows():\n",
    "    row[0]=(row[0]/totals[\"Number of males\"])\n",
    "    row[1]=(row[1]/totals[\"Number of females\"])\n",
    "df_sex_to_agegroup"
   ]
  },
  {
   "cell_type": "code",
   "execution_count": 13,
   "metadata": {
    "collapsed": false
   },
   "outputs": [
    {
     "data": {
      "text/html": [
       "<div>\n",
       "<table border=\"1\" class=\"dataframe\">\n",
       "  <thead>\n",
       "    <tr style=\"text-align: right;\">\n",
       "      <th></th>\n",
       "      <th>%</th>\n",
       "      <th>Qualification</th>\n",
       "    </tr>\n",
       "  </thead>\n",
       "  <tbody>\n",
       "    <tr>\n",
       "      <th>0</th>\n",
       "      <td>14.502011</td>\n",
       "      <td>No Qualification</td>\n",
       "    </tr>\n",
       "    <tr>\n",
       "      <th>1</th>\n",
       "      <td>15.601149</td>\n",
       "      <td>Level 1</td>\n",
       "    </tr>\n",
       "    <tr>\n",
       "      <th>2</th>\n",
       "      <td>17.831609</td>\n",
       "      <td>Level 2</td>\n",
       "    </tr>\n",
       "    <tr>\n",
       "      <th>3</th>\n",
       "      <td>14.468103</td>\n",
       "      <td>Level 3</td>\n",
       "    </tr>\n",
       "    <tr>\n",
       "      <th>4</th>\n",
       "      <td>29.292529</td>\n",
       "      <td>Level 4</td>\n",
       "    </tr>\n",
       "    <tr>\n",
       "      <th>5</th>\n",
       "      <td>4.972701</td>\n",
       "      <td>Other</td>\n",
       "    </tr>\n",
       "  </tbody>\n",
       "</table>\n",
       "</div>"
      ],
      "text/plain": [
       "           %     Qualification\n",
       "0  14.502011  No Qualification\n",
       "1  15.601149           Level 1\n",
       "2  17.831609           Level 2\n",
       "3  14.468103           Level 3\n",
       "4  29.292529           Level 4\n",
       "5   4.972701             Other"
      ]
     },
     "execution_count": 13,
     "metadata": {},
     "output_type": "execute_result"
    }
   ],
   "source": [
    "#create a dataframe to hold the means for every qualification level\n",
    "df_mean_qualifications = pd.DataFrame({ 'Qualification' : np.array([\"No Qualification\",\"Level 1\",\"Level 2\",\"Level 3\",\"Level 4\",\"Other\"],dtype='string'),\n",
    "                     '%' : np.array([df_qualifications[\"% No Qualifications\"].mean(),\n",
    "                                     df_qualifications[\"% Level 1\"].mean(),\n",
    "                                     df_qualifications[\"% Level 2\"].mean(),\n",
    "                                     df_qualifications[\"% Level 3\"].mean(),\n",
    "                                     df_qualifications[\"% Level 4\"].mean(),\n",
    "                                     df_qualifications[\"% Other\"].mean()],dtype='float')})\n",
    "df_mean_qualifications"
   ]
  },
  {
   "cell_type": "code",
   "execution_count": 14,
   "metadata": {
    "collapsed": false
   },
   "outputs": [
    {
     "data": {
      "text/html": [
       "<div>\n",
       "<table border=\"1\" class=\"dataframe\">\n",
       "  <thead>\n",
       "    <tr style=\"text-align: right;\">\n",
       "      <th></th>\n",
       "      <th>%</th>\n",
       "      <th>Newspapers</th>\n",
       "    </tr>\n",
       "  </thead>\n",
       "  <tbody>\n",
       "    <tr>\n",
       "      <th>0</th>\n",
       "      <td>0.219467</td>\n",
       "      <td>Daily Express</td>\n",
       "    </tr>\n",
       "    <tr>\n",
       "      <th>1</th>\n",
       "      <td>0.090473</td>\n",
       "      <td>Financial Times</td>\n",
       "    </tr>\n",
       "    <tr>\n",
       "      <th>2</th>\n",
       "      <td>0.031880</td>\n",
       "      <td>The Herald</td>\n",
       "    </tr>\n",
       "    <tr>\n",
       "      <th>3</th>\n",
       "      <td>0.387942</td>\n",
       "      <td>The Guardian</td>\n",
       "    </tr>\n",
       "    <tr>\n",
       "      <th>4</th>\n",
       "      <td>0.270238</td>\n",
       "      <td>The Independent</td>\n",
       "    </tr>\n",
       "  </tbody>\n",
       "</table>\n",
       "</div>"
      ],
      "text/plain": [
       "          %       Newspapers\n",
       "0  0.219467    Daily Express\n",
       "1  0.090473  Financial Times\n",
       "2  0.031880       The Herald\n",
       "3  0.387942     The Guardian\n",
       "4  0.270238  The Independent"
      ]
     },
     "execution_count": 14,
     "metadata": {},
     "output_type": "execute_result"
    }
   ],
   "source": [
    "#find the total number of readers and then use it to compute the precentages\n",
    "news_total = df_newspaper.iat[0,3]+ df_newspaper.iat[1,3]+df_newspaper.iat[2,3]+df_newspaper.iat[3,3]+df_newspaper.iat[4,3]\n",
    "df_percent_newspapers = pd.DataFrame({ 'Newspapers' : np.array([df_newspaper.iat[0,0],df_newspaper.iat[1,0],df_newspaper.iat[2,0],df_newspaper.iat[3,0],df_newspaper.iat[4,0]],dtype='string'),\n",
    "                     '%' : np.array([(float(df_newspaper.iat[0,3])/news_total),\n",
    "                                     (float(df_newspaper.iat[1,3])/news_total),\n",
    "                                     (float(df_newspaper.iat[2,3])/news_total),\n",
    "                                     (float(df_newspaper.iat[3,3])/news_total),\n",
    "                                     (float(df_newspaper.iat[4,3])/news_total)],dtype='float')})\n",
    "df_percent_newspapers"
   ]
  },
  {
   "cell_type": "code",
   "execution_count": 15,
   "metadata": {
    "collapsed": false
   },
   "outputs": [],
   "source": [
    "#find the respective precentages in df_online and df_phone in order to perform the bootstrap\n",
    "def find_precentages_in_data(data):\n",
    "    ######### AGES ##########\n",
    "    p_ages_male= np.zeros((19,),dtype=np.float)\n",
    "    p_ages_female = np.zeros((19,), dtype=np.float)\n",
    "    step = 0\n",
    "    for i in range(18,90,4):\n",
    "        p_ages_male[step]=len((data.query( str(i)+'<= Age <='+str(i+3)).query('1 == gender')).index)\n",
    "        p_ages_female[step]=len((data.query( str(i)+'<= Age <='+str(i+3)).query('2 == gender')).index)\n",
    "        step = step + 1\n",
    "    #90+\n",
    "    p_ages_male[step]=len((data.query( str(90)+'< Age').query('1 == gender')).index)\n",
    "    p_ages_female[step]=len((data.query( str(90)+'< Age').query('2 == gender')).index)\n",
    "    \n",
    "    #precentages per age group\n",
    "    total_m = p_ages_male.sum()\n",
    "    total_f = p_ages_female.sum()\n",
    "    for i in range(0,len(p_ages_male)):\n",
    "        p_ages_male[i] = p_ages_male[i]/total_m\n",
    "    for i in range(0,len(p_ages_female)):\n",
    "        p_ages_female[i] = p_ages_female[i]/total_f\n",
    "    \n",
    "    ########## SOCIAL GRADE ##########\n",
    "    p_sgrade = np.zeros((4,),dtype=np.float)\n",
    "    for i in range(0,4):\n",
    "        p_sgrade[i]=len((data.query(str(i+1)+'== Socgrade_matrix_w8').index))\n",
    "    \n",
    "    total_s = p_sgrade.sum()\n",
    "    for i in range(0,4):\n",
    "        p_sgrade[i] = p_sgrade[i]/total_s\n",
    "        \n",
    "        \n",
    "    ########## 2015 ELECTIONS VOTING ##########\n",
    "    p_party = np.zeros((9,),dtype=np.float)\n",
    "    \n",
    "    voted_data =  data.query(str(1)+'== voted2015')['pastvote_2015']\n",
    "    for i in voted_data:\n",
    "        temp = int(i)\n",
    "        if(temp<=9):p_party[temp-1] = p_party[temp-1] + 1\n",
    "    \n",
    "    total_p = p_party.sum()\n",
    "    for i in range(0,9):\n",
    "        p_party[i] = p_party[i]/total_p\n",
    "        \n",
    "    \n",
    "    ########## EDUCATION QUALIFICATIONS ##########\n",
    "    p_levels = np.zeros((6,),dtype=np.float)\n",
    "    #No qualifications\n",
    "    p_levels[0] = len((data.query(str(1)+'== profile_education_level').index))\n",
    "    #Level 1 qualifications\n",
    "    p_levels[1] = len((data.query(str(2)+'== profile_education_level').index))+len((data.query(str(5)+'== profile_education_level').index))+len((data.query(str(8)+'== profile_education_level').index))\n",
    "    #Level 2 qualifications\n",
    "    p_levels[2] = len((data.query(str(6)+'== profile_education_level').index))+len((data.query(str(9)+'== profile_education_level').index))+len((data.query(str(10)+'== profile_education_level').index))\n",
    "            \n",
    "    #Level 3 qualifications\n",
    "    p_levels[3] = len((data.query(str(11)+'== profile_education_level').index))+len((data.query(str(7)+'== profile_education_level').index))+len((data.query(str(12)+'== profile_education_level').index))+len((data.query(str(13)+'== profile_education_level').index))+len((data.query(str(14)+'== profile_education_level').index))\n",
    "    #Level 4 qualifications\n",
    "    p_levels[4] = len((data.query(str(15)+'== profile_education_level').index))+len((data.query(str(16)+'== profile_education_level').index))+len((data.query(str(17)+'== profile_education_level').index))\n",
    "    #Other qualifications\n",
    "    p_levels[5] = len((data.query(str(18)+'== profile_education_level').index))\n",
    "    \n",
    "    total_l = p_levels.sum()\n",
    "    for i in range(0,6):\n",
    "        p_levels[i] = p_levels[i]/total_l\n",
    "    \n",
    "    ########## NEWSPAPERS PREFERRED ##########\n",
    "    p_newspapers = np.zeros((15,),dtype=np.float)\n",
    "    for i in range(0,14):\n",
    "        p_newspapers[i] = len((data.query(str(i+1)+'== Newspaper_Read').index))\n",
    "    \n",
    "    p_newspapers[14] = len((data.query(str(16)+'== Newspaper_Read').index))+len((data.query(str(17)+'== Newspaper_Read').index))\n",
    "    \n",
    "    total_np = p_newspapers.sum()\n",
    "    p_newsp = np.zeros((15,),dtype=np.float)\n",
    "    for i in range(0,15):\n",
    "        p_newsp[i] = \"{0:.5g}\".format(p_newspapers[i]/total_np)\n",
    "    \n",
    "    ########## NEWS STATION PREFERRED ##########\n",
    "    p_newschannel = np.zeros((6,),dtype=np.float)\n",
    "    for i in range(0,6):\n",
    "        if ((i+1)>1): p_newschannel[i] = len((data.query(str(i+2)+'== TV_News').index))\n",
    "        else: p_newschannel[i] = len((data.query(str(i+1)+'== TV_News').index))\n",
    "    \n",
    "    total_nc = p_newschannel.sum()\n",
    "    for i in range(0,6):\n",
    "        p_newschannel[i] = p_newschannel[i]/total_nc\n",
    "    \n",
    "    \n",
    "    ##########\n",
    "    t1 = np.array([[p_ages_male], [p_ages_female], [p_sgrade], [p_party], [p_levels], [p_newsp], [p_newschannel]], dtype=object)\n",
    "    ##########\n",
    "    return t1\n",
    "    \n",
    "    "
   ]
  },
  {
   "cell_type": "code",
   "execution_count": 16,
   "metadata": {
    "collapsed": false
   },
   "outputs": [],
   "source": [
    "online_precentages = find_precentages_in_data(df_online)"
   ]
  },
  {
   "cell_type": "code",
   "execution_count": 185,
   "metadata": {
    "collapsed": false
   },
   "outputs": [],
   "source": [
    "#use bootstrapping to create new examples in order for the data precentages to match the population precentages\n",
    "def bootstrap(data, sample_of_interest, condition):\n",
    "    column_names = list(data.columns.values)\n",
    "    #create a new id for the new sample\n",
    "    new_id = (data[column_names[1]].size + 1)\n",
    "    #create a list to add to the dataframe as new example\n",
    "    temp = []\n",
    "    temp.append(new_id)\n",
    "    for column_name in itertools.islice(column_names,1,len(column_names)):\n",
    "        #create a sample for a data value that was under-represented in the polling\n",
    "        if (sample_of_interest == column_name):\n",
    "            pool = data.query(sample_of_interest+condition)\n",
    "            sample = (np.random.choice(pool[column_name],1)).item(0)\n",
    "        else:\n",
    "            sample = (np.random.choice(data[column_name],1)).item(0)\n",
    "        temp.append(sample)\n",
    "    print temp\n",
    "    \n",
    "        "
   ]
  },
  {
   "cell_type": "code",
   "execution_count": 211,
   "metadata": {
    "collapsed": false
   },
   "outputs": [
    {
     "data": {
      "text/plain": [
       "array([ array([ 0.07368421,  0.04842105,  0.05789474,  0.06105263,  0.06947368,\n",
       "        0.07263158,  0.08105263,  0.07263158,  0.05789474,  0.06      ,\n",
       "        0.07157895,  0.07263158,  0.08421053,  0.06842105,  0.03052632,\n",
       "        0.01263158,  0.00421053,  0.        ,  0.00105263])], dtype=object)"
      ]
     },
     "execution_count": 211,
     "metadata": {},
     "output_type": "execute_result"
    }
   ],
   "source": [
    "online_precentages[0]"
   ]
  },
  {
   "cell_type": "code",
   "execution_count": null,
   "metadata": {
    "collapsed": true
   },
   "outputs": [],
   "source": []
  }
 ],
 "metadata": {
  "kernelspec": {
   "display_name": "Python 2",
   "language": "python",
   "name": "python2"
  },
  "language_info": {
   "codemirror_mode": {
    "name": "ipython",
    "version": 2
   },
   "file_extension": ".py",
   "mimetype": "text/x-python",
   "name": "python",
   "nbconvert_exporter": "python",
   "pygments_lexer": "ipython2",
   "version": "2.7.13"
  }
 },
 "nbformat": 4,
 "nbformat_minor": 2
}
