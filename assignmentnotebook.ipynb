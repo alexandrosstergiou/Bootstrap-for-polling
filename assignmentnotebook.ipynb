{
 "cells": [
  {
   "cell_type": "code",
   "execution_count": 20,
   "metadata": {
    "collapsed": true
   },
   "outputs": [],
   "source": [
    "%matplotlib inline\n",
    "import matplotlib\n",
    "import numpy as np\n",
    "import matplotlib.pyplot as plt\n",
    "import pandas as pd\n",
    "import seaborn as sns\n",
    "\n",
    "from sklearn.metrics import confusion_matrix\n",
    "import itertools\n",
    "\n",
    "from sklearn.tree import DecisionTreeRegressor\n",
    "from sklearn.ensemble import RandomForestRegressor\n",
    "from sklearn.ensemble import GradientBoostingRegressor\n",
    "from sklearn.ensemble import ExtraTreesClassifier\n",
    "from sklearn.ensemble import RandomForestClassifier\n",
    "from sklearn.model_selection import cross_val_score\n",
    "from sklearn.metrics import mean_squared_error as mse\n",
    "from sklearn.metrics import mean_absolute_error as mae\n",
    "from sklearn.metrics import accuracy_score as acc\n",
    "from sklearn.metrics import make_scorer\n",
    "from sklearn.dummy import DummyRegressor\n",
    "from sklearn.dummy import DummyClassifier\n",
    "from sklearn.preprocessing import LabelEncoder"
   ]
  },
  {
   "cell_type": "code",
   "execution_count": 21,
   "metadata": {
    "collapsed": false
   },
   "outputs": [],
   "source": [
    "df_online = pd.read_csv(\"./NatRep_Online_Upload.csv\", delimiter = \",\")\n",
    "df_phone = pd.read_csv(\"./NatRep_Phone_upload.csv\", delimiter = \",\")"
   ]
  },
  {
   "cell_type": "code",
   "execution_count": 22,
   "metadata": {
    "collapsed": false
   },
   "outputs": [],
   "source": [
    "df_elections = pd.read_csv(\"./2015_general_elections/2015_voting_gen_election.csv\", delimiter=\",\")"
   ]
  },
  {
   "cell_type": "code",
   "execution_count": 23,
   "metadata": {
    "collapsed": true
   },
   "outputs": [],
   "source": [
    "df_qualifications = pd.read_csv(\"./Education_qualifications/UK_Qualifications.csv\", delimiter=\",\")"
   ]
  },
  {
   "cell_type": "code",
   "execution_count": 24,
   "metadata": {
    "collapsed": true
   },
   "outputs": [],
   "source": [
    "df_sex_to_age = pd.read_csv(\"./Gender_demographics_by_age/UK_M_to_F_ratio_by_age.csv\", delimiter=\",\")"
   ]
  },
  {
   "cell_type": "code",
   "execution_count": 25,
   "metadata": {
    "collapsed": false
   },
   "outputs": [],
   "source": [
    "df_newspaper = pd.read_csv(\"./Newspaper_readability/Newspaper_readerships_uk.csv\", delimiter=\",\")"
   ]
  },
  {
   "cell_type": "code",
   "execution_count": 26,
   "metadata": {
    "collapsed": true
   },
   "outputs": [],
   "source": [
    "df_social_grade = pd.read_csv(\"./Social_grade/Aproximated_social_grade.csv\", delimiter=\",\")"
   ]
  },
  {
   "cell_type": "code",
   "execution_count": 27,
   "metadata": {
    "collapsed": true
   },
   "outputs": [],
   "source": [
    "df_station_ratings = pd.read_csv(\"./Station_ratings/Station_Ratings_UK.csv\", delimiter=\",\")"
   ]
  },
  {
   "cell_type": "code",
   "execution_count": 28,
   "metadata": {
    "collapsed": false
   },
   "outputs": [],
   "source": [
    "#start by deleting the ages that cannot legaly vote\n",
    "for i in range(18):\n",
    "    df_sex_to_age = df_sex_to_age.drop(df_sex_to_age.index[[0]])"
   ]
  },
  {
   "cell_type": "code",
   "execution_count": 29,
   "metadata": {
    "collapsed": false
   },
   "outputs": [],
   "source": [
    "#to avoid overfitting, create age groups every 4 years\n",
    "df_sex_to_agegroup = df_sex_to_age.groupby(np.arange(len(df_sex_to_age))//4).sum()\n",
    "df_sex_to_agegroup.index = df_sex_to_age.loc[1::4,'Age']"
   ]
  },
  {
   "cell_type": "code",
   "execution_count": 30,
   "metadata": {
    "collapsed": false
   },
   "outputs": [],
   "source": [
    "#Find the total number of men and women\n",
    "totals = df_sex_to_age.sum(axis=0)"
   ]
  },
  {
   "cell_type": "code",
   "execution_count": 31,
   "metadata": {
    "collapsed": false
   },
   "outputs": [],
   "source": [
    "#reconstruct the dataframe to only include the precentages\n",
    "df_sex_to_agegroup[\"Number of males\"] = df_sex_to_agegroup[\"Number of males\"].astype(float)\n",
    "df_sex_to_agegroup[\"Number of females\"] = df_sex_to_agegroup[\"Number of females\"].astype(float)\n",
    "for index, row in df_sex_to_agegroup.iterrows():\n",
    "    row[0]=(row[0]/totals[\"Number of males\"])\n",
    "    row[1]=(row[1]/totals[\"Number of females\"])"
   ]
  },
  {
   "cell_type": "code",
   "execution_count": 32,
   "metadata": {
    "collapsed": false
   },
   "outputs": [],
   "source": [
    "#create a dataframe to hold the means for every qualification level\n",
    "df_mean_qualifications = pd.DataFrame({ 'Qualification' : np.array([\"No Qualification\",\"Level 1\",\"Level 2\",\"Level 3\",\"Level 4\",\"Other\"],dtype='string'),\n",
    "                     '%' : np.array([df_qualifications[\"% No Qualifications\"].mean()*0.01,\n",
    "                                     df_qualifications[\"% Level 1\"].mean()*0.01,\n",
    "                                     df_qualifications[\"% Level 2\"].mean()*0.01,\n",
    "                                     df_qualifications[\"% Level 3\"].mean()*0.01,\n",
    "                                     df_qualifications[\"% Level 4\"].mean()*0.01,\n",
    "                                     df_qualifications[\"% Other\"].mean()*0.01],dtype='float')})"
   ]
  },
  {
   "cell_type": "code",
   "execution_count": 33,
   "metadata": {
    "collapsed": false
   },
   "outputs": [],
   "source": [
    "#find the total number of readers and then use it to compute the precentages\n",
    "news_total = df_newspaper[\"Combined\"].values.sum()   \n",
    "pn = []\n",
    "for readers in df_newspaper[\"Combined\"].values:\n",
    "    pn.append(\"{0:.5g}\".format((float(readers)/float(news_total))))\n",
    "cn = list(df_newspaper[\"Title\"].values)\n",
    "df_percent_newspapers = pd.DataFrame([pn,cn])\n",
    "df_percent_newspapers = df_percent_newspapers.T"
   ]
  },
  {
   "cell_type": "code",
   "execution_count": 34,
   "metadata": {
    "collapsed": false
   },
   "outputs": [],
   "source": [
    "#find the respective precentages in df_online and df_phone in order to perform the bootstrap\n",
    "def find_precentages_in_data(data):\n",
    "    ######### AGES ##########\n",
    "    p_ages_male= np.zeros((19,),dtype=np.float)\n",
    "    p_ages_female = np.zeros((19,), dtype=np.float)\n",
    "    step = 0\n",
    "    for i in range(18,90,4):\n",
    "        p_ages_male[step]=len((data.query( str(i)+'<= Age <='+str(i+3)).query('1 == gender')).index)\n",
    "        p_ages_female[step]=len((data.query( str(i)+'<= Age <='+str(i+3)).query('2 == gender')).index)\n",
    "        step = step + 1\n",
    "    #90+\n",
    "    p_ages_male[step]=len((data.query( str(90)+'< Age').query('1 == gender')).index)\n",
    "    p_ages_female[step]=len((data.query( str(90)+'< Age').query('2 == gender')).index)\n",
    "    \n",
    "    #precentages per age group\n",
    "    total_m = p_ages_male.sum()\n",
    "    total_f = p_ages_female.sum()\n",
    "    for i in range(0,len(p_ages_male)):\n",
    "        p_ages_male[i] = p_ages_male[i]/total_m\n",
    "    for i in range(0,len(p_ages_female)):\n",
    "        p_ages_female[i] = p_ages_female[i]/total_f\n",
    "    \n",
    "    ########## SOCIAL GRADE ##########\n",
    "    p_sgrade = np.zeros((4,),dtype=np.float)\n",
    "    for i in range(0,4):\n",
    "        p_sgrade[i]=len((data.query(str(i+1)+'== Socgrade_matrix_w8').index))\n",
    "    \n",
    "    total_s = p_sgrade.sum()\n",
    "    for i in range(0,4):\n",
    "        p_sgrade[i] = p_sgrade[i]/total_s\n",
    "        \n",
    "        \n",
    "    ########## 2015 ELECTIONS VOTING ##########\n",
    "    p_party = np.zeros((9,),dtype=np.float)\n",
    "    \n",
    "    voted_data =  data.query(str(1)+'== voted2015')['pastvote_2015']\n",
    "    for i in voted_data:\n",
    "        temp = int(i)\n",
    "        if(temp<=9):p_party[temp-1] = p_party[temp-1] + 1\n",
    "    \n",
    "    total_p = p_party.sum()\n",
    "    for i in range(0,9):\n",
    "        p_party[i] = p_party[i]/total_p\n",
    "        \n",
    "    \n",
    "    ########## EDUCATION QUALIFICATIONS ##########\n",
    "    p_levels = np.zeros((6,),dtype=np.float)\n",
    "    #No qualifications\n",
    "    p_levels[0] = len((data.query(str(1)+'== profile_education_level').index))\n",
    "    #Level 1 qualifications\n",
    "    p_levels[1] = len((data.query(str(2)+'== profile_education_level').index))+len((data.query(str(5)+'== profile_education_level').index))+len((data.query(str(8)+'== profile_education_level').index))\n",
    "    #Level 2 qualifications\n",
    "    p_levels[2] = len((data.query(str(6)+'== profile_education_level').index))+len((data.query(str(9)+'== profile_education_level').index))+len((data.query(str(10)+'== profile_education_level').index))\n",
    "            \n",
    "    #Level 3 qualifications\n",
    "    p_levels[3] = len((data.query(str(11)+'== profile_education_level').index))+len((data.query(str(7)+'== profile_education_level').index))+len((data.query(str(12)+'== profile_education_level').index))+len((data.query(str(13)+'== profile_education_level').index))+len((data.query(str(14)+'== profile_education_level').index))\n",
    "    #Level 4 qualifications\n",
    "    p_levels[4] = len((data.query(str(15)+'== profile_education_level').index))+len((data.query(str(16)+'== profile_education_level').index))+len((data.query(str(17)+'== profile_education_level').index))\n",
    "    #Other qualifications\n",
    "    p_levels[5] = len((data.query(str(18)+'== profile_education_level').index))\n",
    "    \n",
    "    total_l = p_levels.sum()\n",
    "    for i in range(0,6):\n",
    "        p_levels[i] = p_levels[i]/total_l\n",
    "    \n",
    "    ########## NEWSPAPERS PREFERRED ##########\n",
    "    p_newspapers = np.zeros((15,),dtype=np.float)\n",
    "    for i in range(0,14):\n",
    "        p_newspapers[i] = len((data.query(str(i+1)+'== Newspaper_Read').index))\n",
    "    \n",
    "    p_newspapers[14] = len((data.query(str(16)+'== Newspaper_Read').index))+len((data.query(str(17)+'== Newspaper_Read').index))\n",
    "    \n",
    "    total_np = p_newspapers.sum()\n",
    "    p_newsp = np.zeros((15,),dtype=np.float)\n",
    "    for i in range(0,15):\n",
    "        p_newsp[i] = \"{0:.5g}\".format(p_newspapers[i]/total_np)\n",
    "    \n",
    "    ########## NEWS STATION PREFERRED ##########\n",
    "    p_newschannel = np.zeros((6,),dtype=np.float)\n",
    "    for i in range(0,6):\n",
    "        if ((i+1)>1): p_newschannel[i] = len((data.query(str(i+2)+'== TV_News').index))\n",
    "        else: p_newschannel[i] = len((data.query(str(i+1)+'== TV_News').index))\n",
    "    \n",
    "    total_nc = p_newschannel.sum()\n",
    "    for i in range(0,6):\n",
    "        p_newschannel[i] = p_newschannel[i]/total_nc\n",
    "    \n",
    "    \n",
    "    ##########\n",
    "    t1 = np.array([[p_ages_male], [p_ages_female], [p_sgrade], [p_party], [p_levels], [p_newsp], [p_newschannel]], dtype=object)\n",
    "    ##########\n",
    "    return t1\n",
    "    \n",
    "    "
   ]
  },
  {
   "cell_type": "code",
   "execution_count": 35,
   "metadata": {
    "collapsed": false
   },
   "outputs": [],
   "source": [
    "online_precentages = find_precentages_in_data(df_online)"
   ]
  },
  {
   "cell_type": "code",
   "execution_count": 36,
   "metadata": {
    "collapsed": false
   },
   "outputs": [],
   "source": [
    "#use bootstrapping to create new examples in order for the data precentages to match the population precentages\n",
    "def bootstrap(data, sample_of_interest, condition):\n",
    "    column_names = list(data.columns.values)\n",
    "    #create a new id for the new sample\n",
    "    new_id = (data[column_names[1]].size + 1)\n",
    "    #create a list to add to the dataframe as new example\n",
    "    temp = []\n",
    "    temp.append(new_id)\n",
    "    for column_name in itertools.islice(column_names,1,len(column_names)):\n",
    "        #create a sample for a data value that was under-represented in the polling\n",
    "        if (sample_of_interest == column_name):\n",
    "            pool = data.query(sample_of_interest+condition)\n",
    "            sample = (np.random.choice(pool[column_name],1)).item(0)\n",
    "        else:\n",
    "            sample = (np.random.choice(data[column_name],1)).item(0)\n",
    "        temp.append(sample)\n",
    "    return temp\n",
    "    \n",
    "        "
   ]
  },
  {
   "cell_type": "code",
   "execution_count": 37,
   "metadata": {
    "collapsed": false
   },
   "outputs": [],
   "source": [
    "#use multiple conditions to avoid confusion in the code\n",
    "def conditions(online_precentages, df_sex_to_agegroup, df_social_grade, df_elections, df_mean_qualifications, df_percent_newspapers, df_station_ratings):\n",
    "    ##### PRECENTAGE DIFFERENCE IN AGES OF MEN #####\n",
    "    condition_ages_male = []\n",
    "    for i in range(online_precentages[0][0].size):\n",
    "        condition_ages_male.append(\"{0:.3f}\".format(float(online_precentages[0][0][i])) == \"{0:.3f}\".format(float(df_sex_to_agegroup.iat[i,0])))\n",
    "    \n",
    "    ##### PRECENTAGE DIFFERENCE IN AGES OF WOMEN #####\n",
    "    condition_ages_female = []\n",
    "    for i in range(online_precentages[1][0].size):\n",
    "        condition_ages_female.append(\"{0:.3f}\".format(float(online_precentages[1][0][i])) == \"{0:.3f}\".format(float(df_sex_to_agegroup.iat[i,1])))\n",
    "        \n",
    "    ##### PRECENTAGE DIFFERENCE IN SOCIAL GRADES #####\n",
    "    condition_social_grades = []\n",
    "    for i in range(online_precentages[2][0].size):\n",
    "        condition_social_grades.append(\"{0:.3f}\".format(float(online_precentages[2][0][i])) == \"{0:.3f}\".format(float(df_social_grade.iat[0,(i+5)])))\n",
    "        \n",
    "        \n",
    "    ##### PRECENTAGE DIFFERENCE IN 2015 ELECTIONS VOTING #####\n",
    "    condition_voting_2015 = []\n",
    "    for i in range(online_precentages[3][0].size):\n",
    "        condition_voting_2015.append(\"{0:.3f}\".format(float(online_precentages[3][0][i])) == \"{0:.3f}\".format(float(df_elections.iat[i,2])))\n",
    "        \n",
    "        \n",
    "    ##### PRECENTAGE DIFFERENCE IN POPULATION QUALIFICATIONS #####\n",
    "    condition_qualifications = []\n",
    "    for i in range(online_precentages[4][0].size):\n",
    "        condition_qualifications.append(\"{0:.3f}\".format(float(online_precentages[4][0][i])) == \"{0:.3f}\".format(float(df_mean_qualifications.iat[i,0])))\n",
    "        \n",
    "    \n",
    "    ##### PRECENTAGE DIFFERENCE IN NEWSPAPERS PREFERENCE #####\n",
    "    condition_newspapers = []\n",
    "    for i in range(online_precentages[5][0].size):\n",
    "        condition_newspapers.append(\"{0:.3f}\".format(float(online_precentages[5][0][i])) == \"{0:.3f}\".format(float(df_percent_newspapers.iat[i,0])))\n",
    "        \n",
    "        \n",
    "    ##### PRECENTAGE DIFFERENCE IN NEWS STATIONS #####\n",
    "    condition_tvnews = []\n",
    "    for i in range(online_precentages[6][0].size):\n",
    "        condition_tvnews.append(\"{0:.3f}\".format(online_precentages[6][0][i]) == \"{0:.3f}\".format(df_station_ratings.iat[i,1]))\n",
    "        \n",
    "    \n",
    "    ########## FINAL CONDITION CONSTRUCTION ##########\n",
    "    condition = [condition_ages_male ,condition_ages_female ,condition_social_grades ,condition_voting_2015 ,condition_qualifications ,condition_newspapers ,condition_tvnews]\n",
    "    \n",
    "    return condition"
   ]
  },
  {
   "cell_type": "code",
   "execution_count": 38,
   "metadata": {
    "collapsed": false
   },
   "outputs": [],
   "source": [
    "condition = conditions(online_precentages, df_sex_to_agegroup, df_social_grade, df_elections, df_mean_qualifications, df_percent_newspapers, df_station_ratings)"
   ]
  },
  {
   "cell_type": "code",
   "execution_count": 39,
   "metadata": {
    "collapsed": false
   },
   "outputs": [
    {
     "data": {
      "text/plain": [
       "[[False,\n",
       "  False,\n",
       "  False,\n",
       "  False,\n",
       "  False,\n",
       "  False,\n",
       "  False,\n",
       "  False,\n",
       "  False,\n",
       "  False,\n",
       "  False,\n",
       "  False,\n",
       "  False,\n",
       "  False,\n",
       "  False,\n",
       "  False,\n",
       "  False,\n",
       "  False,\n",
       "  False],\n",
       " [False,\n",
       "  False,\n",
       "  False,\n",
       "  False,\n",
       "  False,\n",
       "  False,\n",
       "  False,\n",
       "  False,\n",
       "  True,\n",
       "  False,\n",
       "  False,\n",
       "  False,\n",
       "  False,\n",
       "  False,\n",
       "  False,\n",
       "  False,\n",
       "  False,\n",
       "  False,\n",
       "  False],\n",
       " [False, False, False, False],\n",
       " [False, False, False, False, False, False, False, False, False],\n",
       " [False, False, False, False, False, False],\n",
       " [False,\n",
       "  False,\n",
       "  False,\n",
       "  False,\n",
       "  False,\n",
       "  False,\n",
       "  False,\n",
       "  False,\n",
       "  False,\n",
       "  False,\n",
       "  False,\n",
       "  False,\n",
       "  False,\n",
       "  False,\n",
       "  False],\n",
       " [False, False, False, False, False, False]]"
      ]
     },
     "execution_count": 39,
     "metadata": {},
     "output_type": "execute_result"
    }
   ],
   "source": [
    "condition\n",
    "    "
   ]
  },
  {
   "cell_type": "code",
   "execution_count": null,
   "metadata": {
    "collapsed": true
   },
   "outputs": [],
   "source": []
  }
 ],
 "metadata": {
  "kernelspec": {
   "display_name": "Python 2",
   "language": "python",
   "name": "python2"
  },
  "language_info": {
   "codemirror_mode": {
    "name": "ipython",
    "version": 2
   },
   "file_extension": ".py",
   "mimetype": "text/x-python",
   "name": "python",
   "nbconvert_exporter": "python",
   "pygments_lexer": "ipython2",
   "version": "2.7.13"
  }
 },
 "nbformat": 4,
 "nbformat_minor": 2
}
